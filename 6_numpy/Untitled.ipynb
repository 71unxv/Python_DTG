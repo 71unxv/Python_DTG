{
 "cells": [
  {
   "cell_type": "code",
   "execution_count": 1,
   "metadata": {},
   "outputs": [],
   "source": [
    "import numpy as np\n",
    "import matplotlib.pyplot as plt"
   ]
  },
  {
   "cell_type": "code",
   "execution_count": 15,
   "metadata": {},
   "outputs": [
    {
     "name": "stdout",
     "output_type": "stream",
     "text": [
      "[[0. 0. 0. 0. 0. 0. 0. 0. 0. 0.]\n",
      " [0. 0. 0. 0. 0. 0. 0. 0. 0. 0.]\n",
      " [0. 0. 0. 0. 0. 0. 0. 0. 0. 0.]\n",
      " [0. 0. 0. 0. 0. 0. 0. 0. 0. 0.]\n",
      " [0. 0. 0. 0. 0. 0. 0. 0. 0. 0.]\n",
      " [0. 0. 0. 0. 0. 0. 0. 0. 0. 0.]\n",
      " [0. 0. 0. 0. 0. 0. 0. 0. 0. 0.]\n",
      " [0. 0. 0. 0. 0. 0. 0. 0. 0. 0.]\n",
      " [0. 0. 0. 0. 0. 0. 0. 0. 0. 0.]\n",
      " [0. 0. 0. 0. 0. 0. 0. 0. 0. 0.]]\n",
      "========================================\n",
      "[[1. 1. 1. 1. 1. 1. 1. 1. 1. 1.]\n",
      " [1. 1. 1. 1. 1. 1. 1. 1. 1. 1.]\n",
      " [1. 1. 1. 1. 1. 1. 1. 1. 1. 1.]\n",
      " [1. 1. 1. 1. 1. 1. 1. 1. 1. 1.]\n",
      " [1. 1. 1. 1. 1. 1. 1. 1. 1. 1.]\n",
      " [1. 1. 1. 1. 1. 1. 1. 1. 1. 1.]\n",
      " [1. 1. 1. 1. 1. 1. 1. 1. 1. 1.]\n",
      " [1. 1. 1. 1. 1. 1. 1. 1. 1. 1.]\n",
      " [1. 1. 1. 1. 1. 1. 1. 1. 1. 1.]\n",
      " [1. 1. 1. 1. 1. 1. 1. 1. 1. 1.]]\n",
      "========================================\n",
      "[[2. 2. 2. 2. 2. 2. 2. 2. 2. 2.]\n",
      " [2. 2. 2. 2. 2. 2. 2. 2. 2. 2.]\n",
      " [2. 2. 2. 2. 2. 2. 2. 2. 2. 2.]\n",
      " [2. 2. 2. 2. 2. 2. 2. 2. 2. 2.]\n",
      " [2. 2. 2. 2. 2. 2. 2. 2. 2. 2.]\n",
      " [2. 2. 2. 2. 2. 2. 2. 2. 2. 2.]\n",
      " [2. 2. 2. 2. 2. 2. 2. 2. 2. 2.]\n",
      " [2. 2. 2. 2. 2. 2. 2. 2. 2. 2.]\n",
      " [2. 2. 2. 2. 2. 2. 2. 2. 2. 2.]\n",
      " [2. 2. 2. 2. 2. 2. 2. 2. 2. 2.]]\n",
      "========================================\n",
      "[[ 1.    0.    0.    0.    0.  ]\n",
      " [ 0.    3.25  0.    0.    0.  ]\n",
      " [ 0.    0.    5.5   0.    0.  ]\n",
      " [ 0.    0.    0.    7.75  0.  ]\n",
      " [ 0.    0.    0.    0.   10.  ]]\n",
      "========================================\n",
      "[ 1.    3.25  5.5   7.75 10.  ]\n",
      "========================================\n",
      "[[1.         0.         0.         0.         0.        ]\n",
      " [0.         0.30769231 0.         0.         0.        ]\n",
      " [0.         0.         0.18181818 0.         0.        ]\n",
      " [0.         0.         0.         0.12903226 0.        ]\n",
      " [0.         0.         0.         0.         0.1       ]]\n"
     ]
    }
   ],
   "source": [
    "baris =10 \n",
    "kolom =10\n",
    "array0 = np.zeros([baris,kolom])\n",
    "print(array0)\n",
    "print(\"==\" * 20)\n",
    "array1 = np.ones([baris,kolom])\n",
    "print(array1)\n",
    "print(\"==\" * 20)\n",
    "array2 = np.ones([baris,kolom]) * 2\n",
    "print(array2)\n",
    "print(\"==\" * 20)\n",
    "\n",
    "array3 = np.linspace(1,10,5)\n",
    "array3 = np.diag(array3)\n",
    "print(array3)\n",
    "print(\"==\" * 20)\n",
    "\n",
    "array4 = np.diag(array3)\n",
    "print(array4)\n",
    "print(\"==\" * 20)\n",
    "\n",
    "array5 = np.linalg.pinv(array3)\n",
    "print(array5)\n"
   ]
  },
  {
   "cell_type": "code",
   "execution_count": 17,
   "metadata": {},
   "outputs": [
    {
     "name": "stdout",
     "output_type": "stream",
     "text": [
      "1.0\n",
      "0.3076923076923077\n",
      "0.18181818181818182\n",
      "0.12903225806451613\n",
      "0.1\n"
     ]
    }
   ],
   "source": [
    "# Indexing\n",
    "\n",
    "for ii in range(array5.shape[0]):\n",
    "    for jj in range(array5.shape[1]):\n",
    "        if ii is jj:\n",
    "            print(array5[ii,jj])\n",
    "            array5[ii,jj]=7\n",
    "# print(array5)\n",
    "            \n",
    "\n"
   ]
  },
  {
   "cell_type": "code",
   "execution_count": 18,
   "metadata": {},
   "outputs": [
    {
     "name": "stdout",
     "output_type": "stream",
     "text": [
      "[[7. 0. 0. 0. 0.]\n",
      " [0. 7. 0. 0. 0.]\n",
      " [0. 0. 7. 0. 0.]\n",
      " [0. 0. 0. 7. 0.]\n",
      " [0. 0. 0. 0. 7.]]\n"
     ]
    }
   ],
   "source": [
    "print(array5)"
   ]
  },
  {
   "cell_type": "code",
   "execution_count": null,
   "metadata": {},
   "outputs": [],
   "source": []
  }
 ],
 "metadata": {
  "kernelspec": {
   "display_name": "Python 3",
   "language": "python",
   "name": "python3"
  },
  "language_info": {
   "codemirror_mode": {
    "name": "ipython",
    "version": 3
   },
   "file_extension": ".py",
   "mimetype": "text/x-python",
   "name": "python",
   "nbconvert_exporter": "python",
   "pygments_lexer": "ipython3",
   "version": "3.6.7"
  }
 },
 "nbformat": 4,
 "nbformat_minor": 2
}
